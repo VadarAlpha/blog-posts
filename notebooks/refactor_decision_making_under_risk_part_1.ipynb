{
 "cells": [
  {
   "cell_type": "code",
   "execution_count": 12,
   "metadata": {},
   "outputs": [
    {
     "ename": "TypeError",
     "evalue": "Nominatim could not geocode query {'Wausau, WI, USA': [44.9591, -89.6301], 'Houston, TX, USA': [29.7604, -95.3698], 'New Orleans, LA, USA': [29.9511, -90.0715], 'Mobile, AL, USA': [30.6954, -88.0399], 'Savannah, GA, USA': [32.0809, -81.0912], 'Charleston, SC, USA': [32.7765, -79.9311]} to a geometry of type (Multi)Polygon",
     "output_type": "error",
     "traceback": [
      "\u001b[0;31m---------------------------------------------------------------------------\u001b[0m",
      "\u001b[0;31mTypeError\u001b[0m                                 Traceback (most recent call last)",
      "Cell \u001b[0;32mIn[12], line 15\u001b[0m\n\u001b[1;32m     13\u001b[0m config_filepath \u001b[38;5;241m=\u001b[39m \u001b[38;5;124m'\u001b[39m\u001b[38;5;124msim_config.json\u001b[39m\u001b[38;5;124m'\u001b[39m\n\u001b[1;32m     14\u001b[0m combined_graph_filepath \u001b[38;5;241m=\u001b[39m \u001b[38;5;124m'\u001b[39m\u001b[38;5;124mcombined_graph.graphml\u001b[39m\u001b[38;5;124m'\u001b[39m  \u001b[38;5;66;03m# Path to the GraphML file\u001b[39;00m\n\u001b[0;32m---> 15\u001b[0m G, road_networks \u001b[38;5;241m=\u001b[39m \u001b[43mbuild_supply_chain_from_config\u001b[49m\u001b[43m(\u001b[49m\u001b[43mconfig_filepath\u001b[49m\u001b[43m,\u001b[49m\u001b[43m \u001b[49m\u001b[43mcombined_graph_filepath\u001b[49m\u001b[43m)\u001b[49m\n\u001b[1;32m     17\u001b[0m \u001b[38;5;66;03m# Simulate the supply chain\u001b[39;00m\n\u001b[1;32m     18\u001b[0m simulate_supply_chain(G)\n",
      "File \u001b[0;32m~/systems/code/vadar/customer-content/blog-posts/supplychain/simulation.py:18\u001b[0m, in \u001b[0;36mbuild_supply_chain_from_config\u001b[0;34m(config_file, combined_graph_filepath)\u001b[0m\n\u001b[1;32m     15\u001b[0m G \u001b[38;5;241m=\u001b[39m create_multidigraph(road_networks)\n\u001b[1;32m     17\u001b[0m \u001b[38;5;66;03m# Determine bounding box for interstates\u001b[39;00m\n\u001b[0;32m---> 18\u001b[0m north \u001b[38;5;241m=\u001b[39m \u001b[38;5;28mmax\u001b[39m(\u001b[43mox\u001b[49m\u001b[38;5;241;43m.\u001b[39;49m\u001b[43mgeocode_to_gdf\u001b[49m\u001b[43m(\u001b[49m\u001b[43mlocations\u001b[49m\u001b[43m)\u001b[49m\u001b[38;5;241m.\u001b[39mgeometry\u001b[38;5;241m.\u001b[39my)\n\u001b[1;32m     19\u001b[0m south \u001b[38;5;241m=\u001b[39m \u001b[38;5;28mmin\u001b[39m(ox\u001b[38;5;241m.\u001b[39mgeocode_to_gdf(locations)\u001b[38;5;241m.\u001b[39mgeometry\u001b[38;5;241m.\u001b[39my)\n\u001b[1;32m     20\u001b[0m east \u001b[38;5;241m=\u001b[39m \u001b[38;5;28mmax\u001b[39m(ox\u001b[38;5;241m.\u001b[39mgeocode_to_gdf(locations)\u001b[38;5;241m.\u001b[39mgeometry\u001b[38;5;241m.\u001b[39mx)\n",
      "File \u001b[0;32m~/systems/code/vadar/customer-content/blog-posts/.venv/lib/python3.12/site-packages/osmnx/geocoder.py:139\u001b[0m, in \u001b[0;36mgeocode_to_gdf\u001b[0;34m(query, which_result, by_osmid, buffer_dist)\u001b[0m\n\u001b[1;32m    137\u001b[0m gdf \u001b[38;5;241m=\u001b[39m gpd\u001b[38;5;241m.\u001b[39mGeoDataFrame()\n\u001b[1;32m    138\u001b[0m \u001b[38;5;28;01mfor\u001b[39;00m q, wr \u001b[38;5;129;01min\u001b[39;00m \u001b[38;5;28mzip\u001b[39m(query, which_result):\n\u001b[0;32m--> 139\u001b[0m     gdf \u001b[38;5;241m=\u001b[39m pd\u001b[38;5;241m.\u001b[39mconcat([gdf, \u001b[43m_geocode_query_to_gdf\u001b[49m\u001b[43m(\u001b[49m\u001b[43mq\u001b[49m\u001b[43m,\u001b[49m\u001b[43m \u001b[49m\u001b[43mwr\u001b[49m\u001b[43m,\u001b[49m\u001b[43m \u001b[49m\u001b[43mby_osmid\u001b[49m\u001b[43m)\u001b[49m])\n\u001b[1;32m    141\u001b[0m \u001b[38;5;66;03m# reset GeoDataFrame index and set its CRS\u001b[39;00m\n\u001b[1;32m    142\u001b[0m gdf \u001b[38;5;241m=\u001b[39m gdf\u001b[38;5;241m.\u001b[39mreset_index(drop\u001b[38;5;241m=\u001b[39m\u001b[38;5;28;01mTrue\u001b[39;00m)\n",
      "File \u001b[0;32m~/systems/code/vadar/customer-content/blog-posts/.venv/lib/python3.12/site-packages/osmnx/geocoder.py:194\u001b[0m, in \u001b[0;36m_geocode_query_to_gdf\u001b[0;34m(query, which_result, by_osmid)\u001b[0m\n\u001b[1;32m    190\u001b[0m     result \u001b[38;5;241m=\u001b[39m results[\u001b[38;5;241m0\u001b[39m]\n\u001b[1;32m    192\u001b[0m \u001b[38;5;28;01melif\u001b[39;00m which_result \u001b[38;5;129;01mis\u001b[39;00m \u001b[38;5;28;01mNone\u001b[39;00m:\n\u001b[1;32m    193\u001b[0m     \u001b[38;5;66;03m# else, if which_result=None, auto-select the first (Multi)Polygon\u001b[39;00m\n\u001b[0;32m--> 194\u001b[0m     result \u001b[38;5;241m=\u001b[39m \u001b[43m_get_first_polygon\u001b[49m\u001b[43m(\u001b[49m\u001b[43mresults\u001b[49m\u001b[43m,\u001b[49m\u001b[43m \u001b[49m\u001b[43mquery\u001b[49m\u001b[43m)\u001b[49m\n\u001b[1;32m    196\u001b[0m \u001b[38;5;28;01melif\u001b[39;00m \u001b[38;5;28mlen\u001b[39m(results) \u001b[38;5;241m>\u001b[39m\u001b[38;5;241m=\u001b[39m which_result:\n\u001b[1;32m    197\u001b[0m     \u001b[38;5;66;03m# else, if we got at least which_result results, choose that one\u001b[39;00m\n\u001b[1;32m    198\u001b[0m     result \u001b[38;5;241m=\u001b[39m results[which_result \u001b[38;5;241m-\u001b[39m \u001b[38;5;241m1\u001b[39m]\n",
      "File \u001b[0;32m~/systems/code/vadar/customer-content/blog-posts/.venv/lib/python3.12/site-packages/osmnx/geocoder.py:259\u001b[0m, in \u001b[0;36m_get_first_polygon\u001b[0;34m(results, query)\u001b[0m\n\u001b[1;32m    257\u001b[0m \u001b[38;5;66;03m# if we never found a polygon, throw an error\u001b[39;00m\n\u001b[1;32m    258\u001b[0m msg \u001b[38;5;241m=\u001b[39m \u001b[38;5;124mf\u001b[39m\u001b[38;5;124m\"\u001b[39m\u001b[38;5;124mNominatim could not geocode query \u001b[39m\u001b[38;5;132;01m{\u001b[39;00mquery\u001b[38;5;132;01m!r}\u001b[39;00m\u001b[38;5;124m to a geometry of type (Multi)Polygon\u001b[39m\u001b[38;5;124m\"\u001b[39m\n\u001b[0;32m--> 259\u001b[0m \u001b[38;5;28;01mraise\u001b[39;00m \u001b[38;5;167;01mTypeError\u001b[39;00m(msg)\n",
      "\u001b[0;31mTypeError\u001b[0m: Nominatim could not geocode query {'Wausau, WI, USA': [44.9591, -89.6301], 'Houston, TX, USA': [29.7604, -95.3698], 'New Orleans, LA, USA': [29.9511, -90.0715], 'Mobile, AL, USA': [30.6954, -88.0399], 'Savannah, GA, USA': [32.0809, -81.0912], 'Charleston, SC, USA': [32.7765, -79.9311]} to a geometry of type (Multi)Polygon"
     ]
    }
   ],
   "source": [
    "import sys\n",
    "import os\n",
    "\n",
    "# Add the root directory of the project to the Python path\n",
    "module_path = os.path.abspath(os.path.join('..'))\n",
    "if module_path not in sys.path:\n",
    "    sys.path.append(module_path)\n",
    "\n",
    "from supplychain.simulation import build_supply_chain_from_config, simulate_supply_chain\n",
    "from supplychain.visualization import visualize_supply_chain\n",
    "\n",
    "# Build supply chain from a configuration file\n",
    "config_filepath = 'sim_config.json'\n",
    "combined_graph_filepath = 'combined_graph.graphml'  # Path to the GraphML file\n",
    "G, road_networks = build_supply_chain_from_config(config_filepath, combined_graph_filepath)\n",
    "\n",
    "# Simulate the supply chain\n",
    "simulate_supply_chain(G)\n",
    "\n",
    "# Visualize the supply chain\n",
    "visualize_supply_chain(G)\n"
   ]
  },
  {
   "cell_type": "code",
   "execution_count": null,
   "metadata": {},
   "outputs": [],
   "source": []
  }
 ],
 "metadata": {
  "kernelspec": {
   "display_name": ".venv",
   "language": "python",
   "name": "python3"
  },
  "language_info": {
   "codemirror_mode": {
    "name": "ipython",
    "version": 3
   },
   "file_extension": ".py",
   "mimetype": "text/x-python",
   "name": "python",
   "nbconvert_exporter": "python",
   "pygments_lexer": "ipython3",
   "version": "3.12.4"
  }
 },
 "nbformat": 4,
 "nbformat_minor": 2
}
