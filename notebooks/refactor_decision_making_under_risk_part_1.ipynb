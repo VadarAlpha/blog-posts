{
 "cells": [
  {
   "cell_type": "code",
   "execution_count": 2,
   "metadata": {},
   "outputs": [
    {
     "name": "stdout",
     "output_type": "stream",
     "text": [
      "Build supply chain from a configuration file\n",
      "Place names: ['Wausau, WI, USA', 'Houston, TX, USA', 'New Orleans, LA, USA', 'Mobile, AL, USA', 'Savannah, GA, USA', 'Charleston, SC, USA']\n",
      "Geocoded geometries:\n",
      "                                             geometry  bbox_north  bbox_south  \\\n",
      "0  MULTIPOLYGON (((-89.60755 44.96332, -89.60755 ...   45.006442   44.918550   \n",
      "1  MULTIPOLYGON (((-95.26821 29.95456, -95.26831 ...   30.110351   29.537070   \n",
      "2  POLYGON ((-90.13993 29.93233, -90.13989 29.925...   30.199469   29.865481   \n",
      "3  MULTIPOLYGON (((-88.25930 30.70994, -88.26038 ...   30.844164   30.531026   \n",
      "4  MULTIPOLYGON (((-81.37143 32.09936, -81.36125 ...   32.189662   31.887852   \n",
      "5  MULTIPOLYGON (((-80.05360 32.83508, -80.05385 ...   32.973515   32.668505   \n",
      "\n",
      "   bbox_east  bbox_west   place_id  osm_type   osm_id        lat        lon  \\\n",
      "0 -89.572918 -89.767933   29222586  relation   251837  44.959786 -89.627279   \n",
      "1 -95.012052 -95.909742  293928464  relation  2688911  29.758938 -95.367697   \n",
      "2 -89.625176 -90.139931  293424077  relation   131885  29.975998 -90.078213   \n",
      "3 -87.948553 -88.276122  293282541  relation   254046  30.691346 -88.043751   \n",
      "4 -81.029515 -81.371427     671483  relation   119867  32.079007 -81.092134   \n",
      "5 -79.797064 -80.143846     700135  relation   194119  32.788436 -79.939931   \n",
      "\n",
      "      class            type  place_rank  importance addresstype         name  \\\n",
      "0  boundary  administrative          16    0.527039        city       Wausau   \n",
      "1  boundary  administrative          16    0.678188        city      Houston   \n",
      "2  boundary  administrative          16    0.608026        city  New Orleans   \n",
      "3  boundary  administrative          16    0.624180        city       Mobile   \n",
      "4  boundary  administrative          16    0.627800        city     Savannah   \n",
      "5  boundary  administrative          16    0.650279        city   Charleston   \n",
      "\n",
      "                                        display_name  \n",
      "0  Wausau, Marathon County, Wisconsin, United States  \n",
      "1       Houston, Harris County, Texas, United States  \n",
      "2  New Orleans, Orleans Parish, Louisiana, United...  \n",
      "3      Mobile, Mobile County, Alabama, United States  \n",
      "4   Savannah, Chatham County, Georgia, United States  \n",
      "5  Charleston, Charleston County, South Carolina,...  \n",
      "Bounding box - North: 45.0064424 South: 29.5370705 East: -79.797064 West: -95.9097419\n"
     ]
    },
    {
     "ename": "KeyboardInterrupt",
     "evalue": "",
     "output_type": "error",
     "traceback": [
      "\u001b[0;31m---------------------------------------------------------------------------\u001b[0m",
      "\u001b[0;31mKeyboardInterrupt\u001b[0m                         Traceback (most recent call last)",
      "Cell \u001b[0;32mIn[2], line 10\u001b[0m\n\u001b[1;32m      8\u001b[0m config_filepath \u001b[38;5;241m=\u001b[39m \u001b[38;5;124m'\u001b[39m\u001b[38;5;124msim_config.json\u001b[39m\u001b[38;5;124m'\u001b[39m\n\u001b[1;32m      9\u001b[0m combined_graph_filepath \u001b[38;5;241m=\u001b[39m \u001b[38;5;124m'\u001b[39m\u001b[38;5;124mcombined_graph.graphml\u001b[39m\u001b[38;5;124m'\u001b[39m  \u001b[38;5;66;03m# Path to the GraphML file\u001b[39;00m\n\u001b[0;32m---> 10\u001b[0m G, road_networks \u001b[38;5;241m=\u001b[39m \u001b[43mbuild_supply_chain_from_config\u001b[49m\u001b[43m(\u001b[49m\u001b[43mconfig_filepath\u001b[49m\u001b[43m,\u001b[49m\u001b[43m \u001b[49m\u001b[43mcombined_graph_filepath\u001b[49m\u001b[43m)\u001b[49m\n\u001b[1;32m     12\u001b[0m \u001b[38;5;28mprint\u001b[39m( \u001b[38;5;124mf\u001b[39m\u001b[38;5;124m\"\u001b[39m\u001b[38;5;124mSimulate the supply chain\u001b[39m\u001b[38;5;124m\"\u001b[39m)\n\u001b[1;32m     13\u001b[0m simulate_supply_chain(G)\n",
      "File \u001b[0;32m~/systems/code/vadar/customer-content/blog-posts/supplychain/simulation.py:43\u001b[0m, in \u001b[0;36mbuild_supply_chain_from_config\u001b[0;34m(config_file, combined_graph_filepath)\u001b[0m\n\u001b[1;32m     40\u001b[0m road_networks \u001b[38;5;241m=\u001b[39m download_road_networks(locations)\n\u001b[1;32m     42\u001b[0m \u001b[38;5;66;03m# Combine the road networks with the interstate network\u001b[39;00m\n\u001b[0;32m---> 43\u001b[0m combined_graph \u001b[38;5;241m=\u001b[39m \u001b[43mcombine_graphs\u001b[49m\u001b[43m(\u001b[49m\u001b[43mroad_networks\u001b[49m\u001b[43m \u001b[49m\u001b[38;5;241;43m+\u001b[39;49m\u001b[43m \u001b[49m\u001b[43m[\u001b[49m\u001b[43minterstates_graph\u001b[49m\u001b[43m]\u001b[49m\u001b[43m,\u001b[49m\u001b[43m \u001b[49m\u001b[43mcombined_graph_filepath\u001b[49m\u001b[43m)\u001b[49m\n\u001b[1;32m     45\u001b[0m \u001b[38;5;28;01mreturn\u001b[39;00m combined_graph, road_networks\n",
      "File \u001b[0;32m~/systems/code/vadar/customer-content/blog-posts/supplychain/network.py:67\u001b[0m, in \u001b[0;36mcombine_graphs\u001b[0;34m(graphs, combined_graph_filepath)\u001b[0m\n\u001b[1;32m     64\u001b[0m logging\u001b[38;5;241m.\u001b[39minfo(\u001b[38;5;124m\"\u001b[39m\u001b[38;5;124mCombined graph created successfully\u001b[39m\u001b[38;5;124m\"\u001b[39m)\n\u001b[1;32m     66\u001b[0m \u001b[38;5;66;03m# Save the combined graph to a file\u001b[39;00m\n\u001b[0;32m---> 67\u001b[0m \u001b[43mox\u001b[49m\u001b[38;5;241;43m.\u001b[39;49m\u001b[43msave_graphml\u001b[49m\u001b[43m(\u001b[49m\u001b[43mcombined_graph\u001b[49m\u001b[43m,\u001b[49m\u001b[43m \u001b[49m\u001b[43mfilepath\u001b[49m\u001b[38;5;241;43m=\u001b[39;49m\u001b[43mcombined_graph_filepath\u001b[49m\u001b[43m)\u001b[49m\n\u001b[1;32m     68\u001b[0m logging\u001b[38;5;241m.\u001b[39minfo(\u001b[38;5;124m\"\u001b[39m\u001b[38;5;124mCombined graph saved successfully\u001b[39m\u001b[38;5;124m\"\u001b[39m)\n\u001b[1;32m     70\u001b[0m \u001b[38;5;28;01mreturn\u001b[39;00m combined_graph\n",
      "File \u001b[0;32m~/systems/code/vadar/customer-content/blog-posts/.venv/lib/python3.12/site-packages/osmnx/io.py:170\u001b[0m, in \u001b[0;36msave_graphml\u001b[0;34m(G, filepath, gephi, encoding)\u001b[0m\n\u001b[1;32m    167\u001b[0m     \u001b[38;5;28;01mfor\u001b[39;00m attr, value \u001b[38;5;129;01min\u001b[39;00m data\u001b[38;5;241m.\u001b[39mitems():\n\u001b[1;32m    168\u001b[0m         data[attr] \u001b[38;5;241m=\u001b[39m \u001b[38;5;28mstr\u001b[39m(value)\n\u001b[0;32m--> 170\u001b[0m \u001b[43mnx\u001b[49m\u001b[38;5;241;43m.\u001b[39;49m\u001b[43mwrite_graphml\u001b[49m\u001b[43m(\u001b[49m\u001b[43mG\u001b[49m\u001b[43m,\u001b[49m\u001b[43m \u001b[49m\u001b[43mpath\u001b[49m\u001b[38;5;241;43m=\u001b[39;49m\u001b[43mfilepath\u001b[49m\u001b[43m,\u001b[49m\u001b[43m \u001b[49m\u001b[43mencoding\u001b[49m\u001b[38;5;241;43m=\u001b[39;49m\u001b[43mencoding\u001b[49m\u001b[43m)\u001b[49m\n\u001b[1;32m    171\u001b[0m utils\u001b[38;5;241m.\u001b[39mlog(\u001b[38;5;124mf\u001b[39m\u001b[38;5;124m\"\u001b[39m\u001b[38;5;124mSaved graph as GraphML file at \u001b[39m\u001b[38;5;132;01m{\u001b[39;00mfilepath\u001b[38;5;132;01m!r}\u001b[39;00m\u001b[38;5;124m\"\u001b[39m)\n",
      "File \u001b[0;32m<class 'networkx.utils.decorators.argmap'> compilation 15:5\u001b[0m, in \u001b[0;36margmap_write_graphml_lxml_11\u001b[0;34m(G, path, encoding, prettyprint, infer_numeric_types, named_key_ids, edge_id_from_attribute)\u001b[0m\n\u001b[1;32m      3\u001b[0m \u001b[38;5;28;01mimport\u001b[39;00m \u001b[38;5;21;01mgzip\u001b[39;00m\n\u001b[1;32m      4\u001b[0m \u001b[38;5;28;01mimport\u001b[39;00m \u001b[38;5;21;01minspect\u001b[39;00m\n\u001b[0;32m----> 5\u001b[0m \u001b[38;5;28;01mimport\u001b[39;00m \u001b[38;5;21;01mitertools\u001b[39;00m\n\u001b[1;32m      6\u001b[0m \u001b[38;5;28;01mimport\u001b[39;00m \u001b[38;5;21;01mre\u001b[39;00m\n\u001b[1;32m      7\u001b[0m \u001b[38;5;28;01mimport\u001b[39;00m \u001b[38;5;21;01mwarnings\u001b[39;00m\n",
      "File \u001b[0;32m~/systems/code/vadar/customer-content/blog-posts/.venv/lib/python3.12/site-packages/networkx/readwrite/graphml.py:176\u001b[0m, in \u001b[0;36mwrite_graphml_lxml\u001b[0;34m(G, path, encoding, prettyprint, infer_numeric_types, named_key_ids, edge_id_from_attribute)\u001b[0m\n\u001b[1;32m    165\u001b[0m \u001b[38;5;28;01mexcept\u001b[39;00m \u001b[38;5;167;01mImportError\u001b[39;00m:\n\u001b[1;32m    166\u001b[0m     \u001b[38;5;28;01mreturn\u001b[39;00m write_graphml_xml(\n\u001b[1;32m    167\u001b[0m         G,\n\u001b[1;32m    168\u001b[0m         path,\n\u001b[0;32m   (...)\u001b[0m\n\u001b[1;32m    173\u001b[0m         edge_id_from_attribute,\n\u001b[1;32m    174\u001b[0m     )\n\u001b[0;32m--> 176\u001b[0m writer \u001b[38;5;241m=\u001b[39m \u001b[43mGraphMLWriterLxml\u001b[49m\u001b[43m(\u001b[49m\n\u001b[1;32m    177\u001b[0m \u001b[43m    \u001b[49m\u001b[43mpath\u001b[49m\u001b[43m,\u001b[49m\n\u001b[1;32m    178\u001b[0m \u001b[43m    \u001b[49m\u001b[43mgraph\u001b[49m\u001b[38;5;241;43m=\u001b[39;49m\u001b[43mG\u001b[49m\u001b[43m,\u001b[49m\n\u001b[1;32m    179\u001b[0m \u001b[43m    \u001b[49m\u001b[43mencoding\u001b[49m\u001b[38;5;241;43m=\u001b[39;49m\u001b[43mencoding\u001b[49m\u001b[43m,\u001b[49m\n\u001b[1;32m    180\u001b[0m \u001b[43m    \u001b[49m\u001b[43mprettyprint\u001b[49m\u001b[38;5;241;43m=\u001b[39;49m\u001b[43mprettyprint\u001b[49m\u001b[43m,\u001b[49m\n\u001b[1;32m    181\u001b[0m \u001b[43m    \u001b[49m\u001b[43minfer_numeric_types\u001b[49m\u001b[38;5;241;43m=\u001b[39;49m\u001b[43minfer_numeric_types\u001b[49m\u001b[43m,\u001b[49m\n\u001b[1;32m    182\u001b[0m \u001b[43m    \u001b[49m\u001b[43mnamed_key_ids\u001b[49m\u001b[38;5;241;43m=\u001b[39;49m\u001b[43mnamed_key_ids\u001b[49m\u001b[43m,\u001b[49m\n\u001b[1;32m    183\u001b[0m \u001b[43m    \u001b[49m\u001b[43medge_id_from_attribute\u001b[49m\u001b[38;5;241;43m=\u001b[39;49m\u001b[43medge_id_from_attribute\u001b[49m\u001b[43m,\u001b[49m\n\u001b[1;32m    184\u001b[0m \u001b[43m\u001b[49m\u001b[43m)\u001b[49m\n\u001b[1;32m    185\u001b[0m writer\u001b[38;5;241m.\u001b[39mdump()\n",
      "File \u001b[0;32m~/systems/code/vadar/customer-content/blog-posts/.venv/lib/python3.12/site-packages/networkx/readwrite/graphml.py:746\u001b[0m, in \u001b[0;36mGraphMLWriterLxml.__init__\u001b[0;34m(self, path, graph, encoding, prettyprint, infer_numeric_types, named_key_ids, edge_id_from_attribute)\u001b[0m\n\u001b[1;32m    743\u001b[0m \u001b[38;5;28mself\u001b[39m\u001b[38;5;241m.\u001b[39mattribute_types \u001b[38;5;241m=\u001b[39m defaultdict(\u001b[38;5;28mset\u001b[39m)\n\u001b[1;32m    745\u001b[0m \u001b[38;5;28;01mif\u001b[39;00m graph \u001b[38;5;129;01mis\u001b[39;00m \u001b[38;5;129;01mnot\u001b[39;00m \u001b[38;5;28;01mNone\u001b[39;00m:\n\u001b[0;32m--> 746\u001b[0m     \u001b[38;5;28;43mself\u001b[39;49m\u001b[38;5;241;43m.\u001b[39;49m\u001b[43madd_graph_element\u001b[49m\u001b[43m(\u001b[49m\u001b[43mgraph\u001b[49m\u001b[43m)\u001b[49m\n",
      "File \u001b[0;32m~/systems/code/vadar/customer-content/blog-posts/.venv/lib/python3.12/site-packages/networkx/readwrite/graphml.py:816\u001b[0m, in \u001b[0;36mGraphMLWriterLxml.add_graph_element\u001b[0;34m(self, G)\u001b[0m\n\u001b[1;32m    814\u001b[0m \u001b[38;5;28mself\u001b[39m\u001b[38;5;241m.\u001b[39madd_attributes(\u001b[38;5;124m\"\u001b[39m\u001b[38;5;124mgraph\u001b[39m\u001b[38;5;124m\"\u001b[39m, incremental_writer, graphdata, {})\n\u001b[1;32m    815\u001b[0m \u001b[38;5;28mself\u001b[39m\u001b[38;5;241m.\u001b[39madd_nodes(G, incremental_writer)  \u001b[38;5;66;03m# adds attributes too\u001b[39;00m\n\u001b[0;32m--> 816\u001b[0m \u001b[38;5;28;43mself\u001b[39;49m\u001b[38;5;241;43m.\u001b[39;49m\u001b[43madd_edges\u001b[49m\u001b[43m(\u001b[49m\u001b[43mG\u001b[49m\u001b[43m,\u001b[49m\u001b[43m \u001b[49m\u001b[43mincremental_writer\u001b[49m\u001b[43m)\u001b[49m\n",
      "File \u001b[0;32m~/systems/code/vadar/customer-content/blog-posts/.venv/lib/python3.12/site-packages/networkx/readwrite/graphml.py:598\u001b[0m, in \u001b[0;36mGraphMLWriter.add_edges\u001b[0;34m(self, G, graph_element)\u001b[0m\n\u001b[1;32m    588\u001b[0m         edge_element \u001b[38;5;241m=\u001b[39m \u001b[38;5;28mself\u001b[39m\u001b[38;5;241m.\u001b[39mmyElement(\n\u001b[1;32m    589\u001b[0m             \u001b[38;5;124m\"\u001b[39m\u001b[38;5;124medge\u001b[39m\u001b[38;5;124m\"\u001b[39m,\n\u001b[1;32m    590\u001b[0m             source\u001b[38;5;241m=\u001b[39m\u001b[38;5;28mstr\u001b[39m(u),\n\u001b[0;32m   (...)\u001b[0m\n\u001b[1;32m    595\u001b[0m             \u001b[38;5;28;01melse\u001b[39;00m \u001b[38;5;28mstr\u001b[39m(key),\n\u001b[1;32m    596\u001b[0m         )\n\u001b[1;32m    597\u001b[0m         default \u001b[38;5;241m=\u001b[39m G\u001b[38;5;241m.\u001b[39mgraph\u001b[38;5;241m.\u001b[39mget(\u001b[38;5;124m\"\u001b[39m\u001b[38;5;124medge_default\u001b[39m\u001b[38;5;124m\"\u001b[39m, {})\n\u001b[0;32m--> 598\u001b[0m         \u001b[38;5;28;43mself\u001b[39;49m\u001b[38;5;241;43m.\u001b[39;49m\u001b[43madd_attributes\u001b[49m\u001b[43m(\u001b[49m\u001b[38;5;124;43m\"\u001b[39;49m\u001b[38;5;124;43medge\u001b[39;49m\u001b[38;5;124;43m\"\u001b[39;49m\u001b[43m,\u001b[49m\u001b[43m \u001b[49m\u001b[43medge_element\u001b[49m\u001b[43m,\u001b[49m\u001b[43m \u001b[49m\u001b[43mdata\u001b[49m\u001b[43m,\u001b[49m\u001b[43m \u001b[49m\u001b[43mdefault\u001b[49m\u001b[43m)\u001b[49m\n\u001b[1;32m    599\u001b[0m         graph_element\u001b[38;5;241m.\u001b[39mappend(edge_element)\n\u001b[1;32m    600\u001b[0m \u001b[38;5;28;01melse\u001b[39;00m:\n",
      "File \u001b[0;32m~/systems/code/vadar/customer-content/blog-posts/.venv/lib/python3.12/site-packages/networkx/readwrite/graphml.py:821\u001b[0m, in \u001b[0;36mGraphMLWriterLxml.add_attributes\u001b[0;34m(self, scope, xml_obj, data, default)\u001b[0m\n\u001b[1;32m    819\u001b[0m \u001b[38;5;250m\u001b[39m\u001b[38;5;124;03m\"\"\"Appends attribute data.\"\"\"\u001b[39;00m\n\u001b[1;32m    820\u001b[0m \u001b[38;5;28;01mfor\u001b[39;00m k, v \u001b[38;5;129;01min\u001b[39;00m data\u001b[38;5;241m.\u001b[39mitems():\n\u001b[0;32m--> 821\u001b[0m     data_element \u001b[38;5;241m=\u001b[39m \u001b[38;5;28;43mself\u001b[39;49m\u001b[38;5;241;43m.\u001b[39;49m\u001b[43madd_data\u001b[49m\u001b[43m(\u001b[49m\n\u001b[1;32m    822\u001b[0m \u001b[43m        \u001b[49m\u001b[38;5;28;43mstr\u001b[39;49m\u001b[43m(\u001b[49m\u001b[43mk\u001b[49m\u001b[43m)\u001b[49m\u001b[43m,\u001b[49m\u001b[43m \u001b[49m\u001b[38;5;28;43mself\u001b[39;49m\u001b[38;5;241;43m.\u001b[39;49m\u001b[43mattr_type\u001b[49m\u001b[43m(\u001b[49m\u001b[38;5;28;43mstr\u001b[39;49m\u001b[43m(\u001b[49m\u001b[43mk\u001b[49m\u001b[43m)\u001b[49m\u001b[43m,\u001b[49m\u001b[43m \u001b[49m\u001b[43mscope\u001b[49m\u001b[43m,\u001b[49m\u001b[43m \u001b[49m\u001b[43mv\u001b[49m\u001b[43m)\u001b[49m\u001b[43m,\u001b[49m\u001b[43m \u001b[49m\u001b[38;5;28;43mstr\u001b[39;49m\u001b[43m(\u001b[49m\u001b[43mv\u001b[49m\u001b[43m)\u001b[49m\u001b[43m,\u001b[49m\u001b[43m \u001b[49m\u001b[43mscope\u001b[49m\u001b[43m,\u001b[49m\u001b[43m \u001b[49m\u001b[43mdefault\u001b[49m\u001b[38;5;241;43m.\u001b[39;49m\u001b[43mget\u001b[49m\u001b[43m(\u001b[49m\u001b[43mk\u001b[49m\u001b[43m)\u001b[49m\n\u001b[1;32m    823\u001b[0m \u001b[43m    \u001b[49m\u001b[43m)\u001b[49m\n\u001b[1;32m    824\u001b[0m     xml_obj\u001b[38;5;241m.\u001b[39mappend(data_element)\n",
      "File \u001b[0;32m~/systems/code/vadar/customer-content/blog-posts/.venv/lib/python3.12/site-packages/networkx/readwrite/graphml.py:566\u001b[0m, in \u001b[0;36mGraphMLWriter.add_data\u001b[0;34m(self, name, element_type, value, scope, default)\u001b[0m\n\u001b[1;32m    562\u001b[0m     \u001b[38;5;28;01mraise\u001b[39;00m nx\u001b[38;5;241m.\u001b[39mNetworkXError(\n\u001b[1;32m    563\u001b[0m         \u001b[38;5;124mf\u001b[39m\u001b[38;5;124m\"\u001b[39m\u001b[38;5;124mGraphML writer does not support \u001b[39m\u001b[38;5;132;01m{\u001b[39;00melement_type\u001b[38;5;132;01m}\u001b[39;00m\u001b[38;5;124m as data values.\u001b[39m\u001b[38;5;124m\"\u001b[39m\n\u001b[1;32m    564\u001b[0m     )\n\u001b[1;32m    565\u001b[0m keyid \u001b[38;5;241m=\u001b[39m \u001b[38;5;28mself\u001b[39m\u001b[38;5;241m.\u001b[39mget_key(name, \u001b[38;5;28mself\u001b[39m\u001b[38;5;241m.\u001b[39mget_xml_type(element_type), scope, default)\n\u001b[0;32m--> 566\u001b[0m data_element \u001b[38;5;241m=\u001b[39m \u001b[38;5;28;43mself\u001b[39;49m\u001b[38;5;241;43m.\u001b[39;49m\u001b[43mmyElement\u001b[49m\u001b[43m(\u001b[49m\u001b[38;5;124;43m\"\u001b[39;49m\u001b[38;5;124;43mdata\u001b[39;49m\u001b[38;5;124;43m\"\u001b[39;49m\u001b[43m,\u001b[49m\u001b[43m \u001b[49m\u001b[43mkey\u001b[49m\u001b[38;5;241;43m=\u001b[39;49m\u001b[43mkeyid\u001b[49m\u001b[43m)\u001b[49m\n\u001b[1;32m    567\u001b[0m data_element\u001b[38;5;241m.\u001b[39mtext \u001b[38;5;241m=\u001b[39m \u001b[38;5;28mstr\u001b[39m(value)\n\u001b[1;32m    568\u001b[0m \u001b[38;5;28;01mreturn\u001b[39;00m data_element\n",
      "\u001b[0;31mKeyboardInterrupt\u001b[0m: "
     ]
    }
   ],
   "source": [
    "import sys\n",
    "import os\n",
    "\n",
    "from supplychain.simulation import build_supply_chain_from_config, simulate_supply_chain\n",
    "from supplychain.visualization import visualize_supply_chain\n",
    "\n",
    "print( f\"Build supply chain from a configuration file\")\n",
    "config_filepath = 'sim_config.json'\n",
    "combined_graph_filepath = 'combined_graph.graphml'  # Path to the GraphML file\n",
    "G, road_networks = build_supply_chain_from_config(config_filepath, combined_graph_filepath)\n",
    "\n",
    "print( f\"Simulate the supply chain\")\n",
    "simulate_supply_chain(G)\n",
    "\n",
    "\n",
    "print(f\"Visualize the supply chain\")\n",
    "visualize_supply_chain(G)\n"
   ]
  },
  {
   "cell_type": "code",
   "execution_count": null,
   "metadata": {},
   "outputs": [],
   "source": []
  }
 ],
 "metadata": {
  "kernelspec": {
   "display_name": ".venv",
   "language": "python",
   "name": "python3"
  },
  "language_info": {
   "codemirror_mode": {
    "name": "ipython",
    "version": 3
   },
   "file_extension": ".py",
   "mimetype": "text/x-python",
   "name": "python",
   "nbconvert_exporter": "python",
   "pygments_lexer": "ipython3",
   "version": "3.12.4"
  }
 },
 "nbformat": 4,
 "nbformat_minor": 2
}
