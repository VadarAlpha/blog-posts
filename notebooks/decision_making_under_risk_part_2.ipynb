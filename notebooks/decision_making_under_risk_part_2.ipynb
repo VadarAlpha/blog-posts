{
 "cells": [
  {
   "cell_type": "code",
   "execution_count": 8,
   "metadata": {},
   "outputs": [],
   "source": [
    "import sys\n",
    "import os\n",
    "import json\n",
    "import logging\n",
    "\n",
    "from supplychain.simulation import build_supply_chain_from_config, simulate_supply_chain\n",
    "from supplychain.visualization import visualize_supply_chain, assign_supplier_types \n"
   ]
  },
  {
   "cell_type": "code",
   "execution_count": 9,
   "metadata": {},
   "outputs": [
    {
     "name": "stderr",
     "output_type": "stream",
     "text": [
      "2024-08-28 20:30:46,239 - INFO - Build supply chain from a configuration file\n",
      "2024-08-28 20:30:46,242 - INFO - Bounding box coordinates extracted successfully\n",
      "2024-08-28 20:30:46,242 - INFO - Bounding box coordinates - min_lat: 28.0395, min_lon: -95.3698, max_lat: 44.9591, max_lon: -79.9311\n",
      "2024-08-28 20:30:46,243 - INFO - Loading graph from file: interstates.graphml\n"
     ]
    },
    {
     "name": "stdout",
     "output_type": "stream",
     "text": [
      "Place names: ['Wausau, WI, USA', 'Houston, TX, USA', 'New Orleans, LA, USA', 'Mobile, AL, USA', 'Savannah, GA, USA', 'Charleston, SC, USA', 'Baton Rouge, LA, USA', 'Lakeland, FL, USA']\n"
     ]
    },
    {
     "name": "stderr",
     "output_type": "stream",
     "text": [
      "2024-08-28 20:30:50,488 - INFO - Interstates graph processed successfully\n",
      "2024-08-28 20:30:50,490 - INFO - Processing place: Wausau, WI, USA\n",
      "2024-08-28 20:30:50,491 - INFO - Loading graph from file: wausau_wi_usa.graphml\n",
      "2024-08-28 20:30:50,621 - INFO - Graph for Wausau, WI, USA processed successfully\n",
      "2024-08-28 20:30:50,622 - INFO - Processing place: Houston, TX, USA\n",
      "2024-08-28 20:30:50,622 - INFO - Loading graph from file: houston_tx_usa.graphml\n",
      "2024-08-28 20:30:54,760 - INFO - Graph for Houston, TX, USA processed successfully\n",
      "2024-08-28 20:30:54,760 - INFO - Processing place: New Orleans, LA, USA\n",
      "2024-08-28 20:30:54,761 - INFO - Loading graph from file: new_orleans_la_usa.graphml\n",
      "2024-08-28 20:30:55,563 - INFO - Graph for New Orleans, LA, USA processed successfully\n",
      "2024-08-28 20:30:55,563 - INFO - Processing place: Mobile, AL, USA\n",
      "2024-08-28 20:30:55,563 - INFO - Loading graph from file: mobile_al_usa.graphml\n",
      "2024-08-28 20:30:56,889 - INFO - Graph for Mobile, AL, USA processed successfully\n",
      "2024-08-28 20:30:56,889 - INFO - Processing place: Savannah, GA, USA\n",
      "2024-08-28 20:30:56,890 - INFO - Loading graph from file: savannah_ga_usa.graphml\n",
      "2024-08-28 20:30:57,228 - INFO - Graph for Savannah, GA, USA processed successfully\n",
      "2024-08-28 20:30:57,228 - INFO - Processing place: Charleston, SC, USA\n",
      "2024-08-28 20:30:57,229 - INFO - Loading graph from file: charleston_sc_usa.graphml\n",
      "2024-08-28 20:30:57,424 - INFO - Graph for Charleston, SC, USA processed successfully\n",
      "2024-08-28 20:30:57,424 - INFO - Processing place: Baton Rouge, LA, USA\n",
      "2024-08-28 20:30:57,425 - INFO - Loading graph from file: baton_rouge_la_usa.graphml\n",
      "2024-08-28 20:30:58,689 - INFO - Graph for Baton Rouge, LA, USA processed successfully\n",
      "2024-08-28 20:30:58,689 - INFO - Processing place: Lakeland, FL, USA\n",
      "2024-08-28 20:30:58,690 - INFO - Loading graph from file: lakeland_fl_usa.graphml\n",
      "2024-08-28 20:30:58,945 - INFO - Graph for Lakeland, FL, USA processed successfully\n",
      "2024-08-28 20:31:00,671 - INFO - Combined graph created successfully\n"
     ]
    }
   ],
   "source": [
    "\n",
    "\n",
    "# Configure logging\n",
    "logging.basicConfig(\n",
    "    level=logging.INFO, format=\"%(asctime)s - %(levelname)s - %(message)s\"\n",
    ")\n",
    "\n",
    "logging.info(\"Build supply chain from a configuration file\")\n",
    "config_filepath = os.path.join(project_root, \"notebooks\", \"sim_config.json\")\n",
    "combined_graph_filepath = os.path.join(\n",
    "    project_root, \"combined_graph.graphml\"\n",
    ")  # Path to the GraphML file\n",
    "visualization_filepath = os.path.join(project_root, \"supply_chain_graph.html\")\n",
    "\n",
    "# Check if config file exists\n",
    "if not os.path.exists(config_filepath):\n",
    "    logging.error(f\"Configuration file not found: {config_filepath}\")\n",
    "    sys.exit(1)\n",
    "\n",
    "# Load configuration\n",
    "with open(config_filepath, \"r\") as f:\n",
    "    config = json.load(f)\n",
    "\n",
    "G, road_networks = build_supply_chain_from_config(\n",
    "    config_filepath, combined_graph_filepath\n",
    ")\n",
    "\n",
    "logging.info(\"Simulate the supply chain\")\n",
    "simulate_supply_chain(G)\n",
    "\n",
    "# Assign supplier types to locations\n",
    "locations_with_suppliers = assign_supplier_types(\n",
    "    config[\"locations\"], config[\"supplier_types\"]\n",
    ")\n",
    "\n",
    "# Visualize the graph\n",
    "visualize_supply_chain(\n",
    "    G, locations_with_suppliers, config[\"color_map\"], visualization_filepath\n",
    ")\n",
    "\n",
    "\n"
   ]
  },
  {
   "cell_type": "code",
   "execution_count": null,
   "metadata": {},
   "outputs": [],
   "source": []
  }
 ],
 "metadata": {
  "kernelspec": {
   "display_name": ".venv",
   "language": "python",
   "name": "python3"
  },
  "language_info": {
   "codemirror_mode": {
    "name": "ipython",
    "version": 3
   },
   "file_extension": ".py",
   "mimetype": "text/x-python",
   "name": "python",
   "nbconvert_exporter": "python",
   "pygments_lexer": "ipython3",
   "version": "3.12.4"
  }
 },
 "nbformat": 4,
 "nbformat_minor": 2
}
