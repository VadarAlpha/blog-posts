{
 "cells": [
  {
   "cell_type": "markdown",
   "metadata": {},
   "source": [
    "# Clarity with Data: Logistics Decision Making under Risk Part 2"
   ]
  },
  {
   "cell_type": "code",
   "execution_count": null,
   "metadata": {},
   "outputs": [],
   "source": [
    "import sys\n",
    "import os\n",
    "import json\n",
    "import logging\n",
    "\n",
    "\n",
    "\n",
    "# Add the root directory to the Python path\n",
    "script_dir = os.path.dirname(os.path.abspath(\"__file__\"))\n",
    "project_root = os.path.abspath(os.path.join(script_dir, \"..\"))\n",
    "sys.path.append(project_root)\n",
    "\n",
    "try:\n",
    "    from supplychain.simulation import build_supply_chain_from_config, simulate_supply_chain\n",
    "    from supplychain.visualization import visualize_supply_chain, assign_supplier_types\n",
    "except ImportError as e:\n",
    "    logging.error(f\"Error importing modules: {e}\")\n",
    "    raise\n",
    "\n"
   ]
  },
  {
   "cell_type": "code",
   "execution_count": null,
   "metadata": {},
   "outputs": [],
   "source": [
    "\n",
    "\n",
    "# Remove all handlers associated with the root logger object\n",
    "for handler in logging.root.handlers[:]:\n",
    "    logging.root.removeHandler(handler)\n",
    "\n",
    "# Configure logging\n",
    "logging.basicConfig(\n",
    "    level=logging.ERROR, format=\"%(asctime)s - %(levelname)s - %(message)s\"\n",
    ")\n",
    "\n",
    "logging.info(\"Build supply chain from a configuration file\")\n",
    "config_filepath = os.path.join(project_root, \"notebooks\", \"sim_config.json\")\n",
    "combined_graph_filepath = os.path.join(\n",
    "    project_root, \"combined_graph.graphml\"\n",
    ")  # Path to the GraphML file\n",
    "visualization_filepath = os.path.join(project_root, \"supply_chain_graph.html\")\n",
    "\n",
    "# Check if config file exists\n",
    "if not os.path.exists(config_filepath):\n",
    "    logging.error(f\"Configuration file not found: {config_filepath}\")\n",
    "    sys.exit(1)\n",
    "\n",
    "# Load configuration\n",
    "with open(config_filepath, \"r\") as f:\n",
    "    config = json.load(f)\n",
    "\n",
    "G, road_networks = build_supply_chain_from_config(\n",
    "    config_filepath, combined_graph_filepath\n",
    ")\n",
    "\n",
    "logging.info(\"Simulate the supply chain\")\n",
    "simulate_supply_chain(G)\n",
    "\n",
    "# Assign supplier types to locations\n",
    "locations_with_suppliers = assign_supplier_types(\n",
    "    config[\"locations\"], config[\"supplier_types\"]\n",
    ")\n",
    "\n",
    "# Visualize the graph\n",
    "visualize_supply_chain(\n",
    "    G, locations_with_suppliers, config[\"color_map\"], visualization_filepath\n",
    ")\n",
    "\n",
    "\n"
   ]
  },
  {
   "cell_type": "code",
   "execution_count": null,
   "metadata": {},
   "outputs": [],
   "source": []
  }
 ],
 "metadata": {
  "kernelspec": {
   "display_name": ".venv",
   "language": "python",
   "name": "python3"
  },
  "language_info": {
   "codemirror_mode": {
    "name": "ipython",
    "version": 3
   },
   "file_extension": ".py",
   "mimetype": "text/x-python",
   "name": "python",
   "nbconvert_exporter": "python",
   "pygments_lexer": "ipython3",
   "version": "3.12.4"
  }
 },
 "nbformat": 4,
 "nbformat_minor": 2
}
